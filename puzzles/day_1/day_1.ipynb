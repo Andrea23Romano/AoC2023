{
 "cells": [
  {
   "cell_type": "markdown",
   "metadata": {},
   "source": [
    "### Part 1"
   ]
  },
  {
   "cell_type": "code",
   "execution_count": 26,
   "metadata": {},
   "outputs": [
    {
     "data": {
      "text/plain": [
       "55607"
      ]
     },
     "execution_count": 26,
     "metadata": {},
     "output_type": "execute_result"
    }
   ],
   "source": [
    "import regex as re\n",
    "\n",
    "def get_data():\n",
    "    with open('./data/input.txt') as f:\n",
    "        return f.read().splitlines()\n",
    "    \n",
    "def extract_number(string: str)->int:\n",
    "    digits = re.findall(r\"\\d\", string)\n",
    "    return int(digits[0]+digits[-1])\n",
    "\n",
    "data = get_data()\n",
    "\n",
    "total = sum([extract_number(line) for line in data])\n",
    "total"
   ]
  },
  {
   "cell_type": "markdown",
   "metadata": {},
   "source": [
    "### Part 2"
   ]
  },
  {
   "cell_type": "code",
   "execution_count": 30,
   "metadata": {},
   "outputs": [
    {
     "data": {
      "text/plain": [
       "55291"
      ]
     },
     "execution_count": 30,
     "metadata": {},
     "output_type": "execute_result"
    }
   ],
   "source": [
    "digits_as_str = {\n",
    "    \"one\": \"1\",\n",
    "    \"two\": \"2\",\n",
    "    \"three\": \"3\",\n",
    "    \"four\": \"4\",\n",
    "    \"five\": \"5\",\n",
    "    \"six\": \"6\",\n",
    "    \"seven\": \"7\",\n",
    "    \"eight\": \"8\",\n",
    "    \"nine\": \"9\",\n",
    "}\n",
    "\n",
    "regex_str = \"|\".join([\"\\d\", *digits_as_str.keys()])\n",
    "\n",
    "\n",
    "def extract_number_w_names(string: str) -> int:\n",
    "    digits = re.findall(regex_str, string, overlapped=True)\n",
    "    digits = [digits_as_str.get(digit, digit) for digit in digits]\n",
    "    return int(digits[0]+digits[-1])\n",
    "\n",
    "\n",
    "total_2 = sum([extract_number_w_names(line) for line in data])\n",
    "total_2"
   ]
  }
 ],
 "metadata": {
  "kernelspec": {
   "display_name": "Python 3",
   "language": "python",
   "name": "python3"
  },
  "language_info": {
   "codemirror_mode": {
    "name": "ipython",
    "version": 3
   },
   "file_extension": ".py",
   "mimetype": "text/x-python",
   "name": "python",
   "nbconvert_exporter": "python",
   "pygments_lexer": "ipython3",
   "version": "3.10.12"
  }
 },
 "nbformat": 4,
 "nbformat_minor": 2
}
