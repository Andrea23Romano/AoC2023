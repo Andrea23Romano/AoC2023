{
 "cells": [
  {
   "cell_type": "markdown",
   "metadata": {},
   "source": [
    "### Part 1"
   ]
  },
  {
   "cell_type": "code",
   "execution_count": 75,
   "metadata": {},
   "outputs": [],
   "source": [
    "import regex as re\n",
    "\n",
    "\n",
    "def find_pattern_coordinates(pattern: str, input: list):\n",
    "    groups_coords = []\n",
    "    height = 1\n",
    "    for line in input:\n",
    "        for m in re.finditer(pattern, line):\n",
    "            groups_coords.append((m.start(), m.end() - 1, height, m.group()))\n",
    "        height += 1\n",
    "    return groups_coords\n",
    "\n",
    "\n",
    "def get_adj_symbols_coords(group_coords: tuple, symbols_coords: list):\n",
    "    adj_xs = range(group_coords[0] - 1, group_coords[1] + 2)\n",
    "    adj_ys = range(group_coords[2] - 1, group_coords[2] + 2)\n",
    "    adj_symbols = list(\n",
    "        filter(\n",
    "            lambda x: (\n",
    "                len([x_adj for x_adj in adj_xs if x_adj in range(x[0], x[1] + 1)])\n",
    "            )\n",
    "            * (x[2] in adj_ys),\n",
    "            symbols_coords,\n",
    "        )\n",
    "    )\n",
    "    return adj_symbols\n",
    "\n",
    "\n",
    "def find_relevant_groups(groups: list, symbol_coords: list):\n",
    "    relevant_values = []\n",
    "    for group in groups:\n",
    "        if len(get_adj_symbols_coords(group, symbol_coords)) > 0:\n",
    "            relevant_values.append((group[0], group[2], int(group[3])))\n",
    "    return relevant_values"
   ]
  },
  {
   "cell_type": "code",
   "execution_count": 76,
   "metadata": {},
   "outputs": [],
   "source": [
    "with open(\"./data/input.txt\") as f:\n",
    "    lines = f.readlines()"
   ]
  },
  {
   "cell_type": "code",
   "execution_count": 77,
   "metadata": {},
   "outputs": [],
   "source": [
    "number_pattern = r\"\\d+\"\n",
    "symbol_pattern = r\"[^\\d\\.\\n]\"\n",
    "number_groups = find_pattern_coordinates(number_pattern, lines)\n",
    "symbol_groups = find_pattern_coordinates(symbol_pattern, lines)"
   ]
  },
  {
   "cell_type": "code",
   "execution_count": 78,
   "metadata": {},
   "outputs": [],
   "source": [
    "rel_values = find_relevant_groups(number_groups,symbol_groups)"
   ]
  },
  {
   "cell_type": "code",
   "execution_count": 79,
   "metadata": {},
   "outputs": [
    {
     "data": {
      "text/plain": [
       "525181"
      ]
     },
     "execution_count": 79,
     "metadata": {},
     "output_type": "execute_result"
    }
   ],
   "source": [
    "total = sum([value[2] for value in rel_values])\n",
    "total"
   ]
  },
  {
   "cell_type": "markdown",
   "metadata": {},
   "source": [
    "### Part 2"
   ]
  },
  {
   "cell_type": "code",
   "execution_count": 80,
   "metadata": {},
   "outputs": [],
   "source": [
    "def find_gear_ratio(gear_coords: tuple, number_groups: list):\n",
    "    adj_numbers = get_adj_symbols_coords(gear_coords,number_groups)\n",
    "    if len(adj_numbers)==2:\n",
    "        return int(adj_numbers[0][-1])*int(adj_numbers[1][-1])\n",
    "    else:\n",
    "        return 0"
   ]
  },
  {
   "cell_type": "code",
   "execution_count": 81,
   "metadata": {},
   "outputs": [
    {
     "data": {
      "text/plain": [
       "84289137"
      ]
     },
     "execution_count": 81,
     "metadata": {},
     "output_type": "execute_result"
    }
   ],
   "source": [
    "gear_pattern=r\"\\*\"\n",
    "\n",
    "gear_coords = find_pattern_coordinates(gear_pattern, lines)\n",
    "\n",
    "gear_ratios = [find_gear_ratio(coords, number_groups) for coords in gear_coords]\n",
    "total_ratios = sum(gear_ratios)\n",
    "total_ratios"
   ]
  }
 ],
 "metadata": {
  "kernelspec": {
   "display_name": "Python 3",
   "language": "python",
   "name": "python3"
  },
  "language_info": {
   "codemirror_mode": {
    "name": "ipython",
    "version": 3
   },
   "file_extension": ".py",
   "mimetype": "text/x-python",
   "name": "python",
   "nbconvert_exporter": "python",
   "pygments_lexer": "ipython3",
   "version": "3.10.12"
  }
 },
 "nbformat": 4,
 "nbformat_minor": 2
}
