{
 "cells": [
  {
   "cell_type": "markdown",
   "metadata": {},
   "source": [
    "### Part 1"
   ]
  },
  {
   "cell_type": "code",
   "execution_count": 5,
   "metadata": {},
   "outputs": [],
   "source": [
    "import regex as re\n",
    "\n",
    "bag_configuration = [12,13,14] # red, green. blue\n",
    "color_list = [\"red\", \"green\", \"blue\"]\n",
    "\n",
    "def parse_extraction(extraction: str):\n",
    "    nums = [int(num) for num in re.findall(r\"\\d+\", extraction)]\n",
    "    colors = re.findall(r\"|\".join(color_list), extraction)\n",
    "    return {colors[i]: nums[i] for i in range(len(nums))}\n",
    "\n",
    "def parse_line(line: str):\n",
    "    index_part, extractions_part = line.split(\":\")\n",
    "    index = int(re.findall(r\"\\d+\", index_part)[0])\n",
    "    extractions = [parse_extraction(extr) for extr in extractions_part.split(\";\")]\n",
    "    max_values = []\n",
    "    for key in color_list:\n",
    "        max_values.append(max([extraction.get(key,0) for extraction in extractions]))\n",
    "    return index, max_values\n",
    "\n",
    "def evaluate_line(line: str, bag: list):\n",
    "    index, max_values = parse_line(line)\n",
    "    for i in range(len(bag)):\n",
    "        index*=(max_values[i]<=bag[i])\n",
    "    return index\n"
   ]
  },
  {
   "cell_type": "code",
   "execution_count": 9,
   "metadata": {},
   "outputs": [
    {
     "data": {
      "text/plain": [
       "2061"
      ]
     },
     "execution_count": 9,
     "metadata": {},
     "output_type": "execute_result"
    }
   ],
   "source": [
    "with open(\"./data/input.txt\") as f:\n",
    "    lines = f.readlines()\n",
    "\n",
    "index_total = sum([evaluate_line(line, bag_configuration) for line in lines])\n",
    "index_total"
   ]
  },
  {
   "cell_type": "markdown",
   "metadata": {},
   "source": [
    "### Part 2"
   ]
  },
  {
   "cell_type": "code",
   "execution_count": 10,
   "metadata": {},
   "outputs": [
    {
     "data": {
      "text/plain": [
       "72596"
      ]
     },
     "execution_count": 10,
     "metadata": {},
     "output_type": "execute_result"
    }
   ],
   "source": [
    "def get_line_power(line: str):\n",
    "    _, max_values = parse_line(line)\n",
    "    power = 1\n",
    "    for value in max_values:\n",
    "        power*=value\n",
    "    return power\n",
    "\n",
    "power_total = sum([get_line_power(line) for line in lines])\n",
    "power_total"
   ]
  }
 ],
 "metadata": {
  "kernelspec": {
   "display_name": "Python 3",
   "language": "python",
   "name": "python3"
  },
  "language_info": {
   "codemirror_mode": {
    "name": "ipython",
    "version": 3
   },
   "file_extension": ".py",
   "mimetype": "text/x-python",
   "name": "python",
   "nbconvert_exporter": "python",
   "pygments_lexer": "ipython3",
   "version": "3.10.12"
  }
 },
 "nbformat": 4,
 "nbformat_minor": 2
}
